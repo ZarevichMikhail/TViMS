{
  "nbformat": 4,
  "nbformat_minor": 0,
  "metadata": {
    "colab": {
      "provenance": [],
      "collapsed_sections": [
        "4mbWkisAVd-4",
        "u7o6Hq5oWWI_",
        "FEe10vwmX5Ux"
      ]
    },
    "kernelspec": {
      "name": "python3",
      "display_name": "Python 3"
    },
    "language_info": {
      "name": "python"
    }
  },
  "cells": [
    {
      "cell_type": "markdown",
      "source": [
        "# Заревич Михаил 513-2\n",
        "\n",
        "Вариант 169"
      ],
      "metadata": {
        "id": "tIiVJpofLY5g"
      }
    },
    {
      "cell_type": "markdown",
      "source": [
        "## Анализ выборки\n"
      ],
      "metadata": {
        "id": "gqLxmQ_jLqK0"
      }
    },
    {
      "cell_type": "code",
      "execution_count": 23,
      "metadata": {
        "id": "7NcEV4EghZhR"
      },
      "outputs": [],
      "source": [
        "import pandas as pd\n",
        "import scipy.stats\n",
        "import statsmodels.graphics.gofplots\n",
        "import matplotlib.pyplot as plt"
      ]
    },
    {
      "cell_type": "code",
      "source": [
        "# Уровни значимости Significance level\n",
        "alphas = [0.005, 0.01, 0.05]\n",
        "\n",
        "# Соответствующие им доверительные вероятноси Confidence level\n",
        "gammas = [0.995, 0.99, 0.95]"
      ],
      "metadata": {
        "id": "7YIhItFMrIoL"
      },
      "execution_count": 24,
      "outputs": []
    },
    {
      "cell_type": "code",
      "source": [
        "# по умолчанию первая строчка csv файла записывается в заголовок колонки\n",
        "# чтобы этого не было надо написать header = None\n",
        "df = pd.read_csv(\"/content/v169.csv\", header = None)\n",
        "\n",
        "df = df.dropna() # убирает пропуски\n",
        "df = df.sort_values(by = [0]).reset_index() # Сортировка значений\n",
        "df = df.rename(columns={0: \"Значения\"})\n",
        "df\n"
      ],
      "metadata": {
        "colab": {
          "base_uri": "https://localhost:8080/",
          "height": 423
        },
        "id": "xU-WwI8Dhonz",
        "outputId": "15f3ae8b-1ec1-4369-c648-8d09068187ae"
      },
      "execution_count": 25,
      "outputs": [
        {
          "output_type": "execute_result",
          "data": {
            "text/plain": [
              "      index  Значения\n",
              "0       546 -4.052622\n",
              "1        96 -3.782219\n",
              "2       554 -3.273535\n",
              "3      5851 -3.215289\n",
              "4       471 -3.170771\n",
              "...     ...       ...\n",
              "4995   6098  3.465258\n",
              "4996   3445  3.670848\n",
              "4997   1117  3.672873\n",
              "4998   4958  3.974495\n",
              "4999   3977  4.055710\n",
              "\n",
              "[5000 rows x 2 columns]"
            ],
            "text/html": [
              "\n",
              "  <div id=\"df-c1acd836-b027-47bb-ae8e-5632e230e71f\" class=\"colab-df-container\">\n",
              "    <div>\n",
              "<style scoped>\n",
              "    .dataframe tbody tr th:only-of-type {\n",
              "        vertical-align: middle;\n",
              "    }\n",
              "\n",
              "    .dataframe tbody tr th {\n",
              "        vertical-align: top;\n",
              "    }\n",
              "\n",
              "    .dataframe thead th {\n",
              "        text-align: right;\n",
              "    }\n",
              "</style>\n",
              "<table border=\"1\" class=\"dataframe\">\n",
              "  <thead>\n",
              "    <tr style=\"text-align: right;\">\n",
              "      <th></th>\n",
              "      <th>index</th>\n",
              "      <th>Значения</th>\n",
              "    </tr>\n",
              "  </thead>\n",
              "  <tbody>\n",
              "    <tr>\n",
              "      <th>0</th>\n",
              "      <td>546</td>\n",
              "      <td>-4.052622</td>\n",
              "    </tr>\n",
              "    <tr>\n",
              "      <th>1</th>\n",
              "      <td>96</td>\n",
              "      <td>-3.782219</td>\n",
              "    </tr>\n",
              "    <tr>\n",
              "      <th>2</th>\n",
              "      <td>554</td>\n",
              "      <td>-3.273535</td>\n",
              "    </tr>\n",
              "    <tr>\n",
              "      <th>3</th>\n",
              "      <td>5851</td>\n",
              "      <td>-3.215289</td>\n",
              "    </tr>\n",
              "    <tr>\n",
              "      <th>4</th>\n",
              "      <td>471</td>\n",
              "      <td>-3.170771</td>\n",
              "    </tr>\n",
              "    <tr>\n",
              "      <th>...</th>\n",
              "      <td>...</td>\n",
              "      <td>...</td>\n",
              "    </tr>\n",
              "    <tr>\n",
              "      <th>4995</th>\n",
              "      <td>6098</td>\n",
              "      <td>3.465258</td>\n",
              "    </tr>\n",
              "    <tr>\n",
              "      <th>4996</th>\n",
              "      <td>3445</td>\n",
              "      <td>3.670848</td>\n",
              "    </tr>\n",
              "    <tr>\n",
              "      <th>4997</th>\n",
              "      <td>1117</td>\n",
              "      <td>3.672873</td>\n",
              "    </tr>\n",
              "    <tr>\n",
              "      <th>4998</th>\n",
              "      <td>4958</td>\n",
              "      <td>3.974495</td>\n",
              "    </tr>\n",
              "    <tr>\n",
              "      <th>4999</th>\n",
              "      <td>3977</td>\n",
              "      <td>4.055710</td>\n",
              "    </tr>\n",
              "  </tbody>\n",
              "</table>\n",
              "<p>5000 rows × 2 columns</p>\n",
              "</div>\n",
              "    <div class=\"colab-df-buttons\">\n",
              "\n",
              "  <div class=\"colab-df-container\">\n",
              "    <button class=\"colab-df-convert\" onclick=\"convertToInteractive('df-c1acd836-b027-47bb-ae8e-5632e230e71f')\"\n",
              "            title=\"Convert this dataframe to an interactive table.\"\n",
              "            style=\"display:none;\">\n",
              "\n",
              "  <svg xmlns=\"http://www.w3.org/2000/svg\" height=\"24px\" viewBox=\"0 -960 960 960\">\n",
              "    <path d=\"M120-120v-720h720v720H120Zm60-500h600v-160H180v160Zm220 220h160v-160H400v160Zm0 220h160v-160H400v160ZM180-400h160v-160H180v160Zm440 0h160v-160H620v160ZM180-180h160v-160H180v160Zm440 0h160v-160H620v160Z\"/>\n",
              "  </svg>\n",
              "    </button>\n",
              "\n",
              "  <style>\n",
              "    .colab-df-container {\n",
              "      display:flex;\n",
              "      gap: 12px;\n",
              "    }\n",
              "\n",
              "    .colab-df-convert {\n",
              "      background-color: #E8F0FE;\n",
              "      border: none;\n",
              "      border-radius: 50%;\n",
              "      cursor: pointer;\n",
              "      display: none;\n",
              "      fill: #1967D2;\n",
              "      height: 32px;\n",
              "      padding: 0 0 0 0;\n",
              "      width: 32px;\n",
              "    }\n",
              "\n",
              "    .colab-df-convert:hover {\n",
              "      background-color: #E2EBFA;\n",
              "      box-shadow: 0px 1px 2px rgba(60, 64, 67, 0.3), 0px 1px 3px 1px rgba(60, 64, 67, 0.15);\n",
              "      fill: #174EA6;\n",
              "    }\n",
              "\n",
              "    .colab-df-buttons div {\n",
              "      margin-bottom: 4px;\n",
              "    }\n",
              "\n",
              "    [theme=dark] .colab-df-convert {\n",
              "      background-color: #3B4455;\n",
              "      fill: #D2E3FC;\n",
              "    }\n",
              "\n",
              "    [theme=dark] .colab-df-convert:hover {\n",
              "      background-color: #434B5C;\n",
              "      box-shadow: 0px 1px 3px 1px rgba(0, 0, 0, 0.15);\n",
              "      filter: drop-shadow(0px 1px 2px rgba(0, 0, 0, 0.3));\n",
              "      fill: #FFFFFF;\n",
              "    }\n",
              "  </style>\n",
              "\n",
              "    <script>\n",
              "      const buttonEl =\n",
              "        document.querySelector('#df-c1acd836-b027-47bb-ae8e-5632e230e71f button.colab-df-convert');\n",
              "      buttonEl.style.display =\n",
              "        google.colab.kernel.accessAllowed ? 'block' : 'none';\n",
              "\n",
              "      async function convertToInteractive(key) {\n",
              "        const element = document.querySelector('#df-c1acd836-b027-47bb-ae8e-5632e230e71f');\n",
              "        const dataTable =\n",
              "          await google.colab.kernel.invokeFunction('convertToInteractive',\n",
              "                                                    [key], {});\n",
              "        if (!dataTable) return;\n",
              "\n",
              "        const docLinkHtml = 'Like what you see? Visit the ' +\n",
              "          '<a target=\"_blank\" href=https://colab.research.google.com/notebooks/data_table.ipynb>data table notebook</a>'\n",
              "          + ' to learn more about interactive tables.';\n",
              "        element.innerHTML = '';\n",
              "        dataTable['output_type'] = 'display_data';\n",
              "        await google.colab.output.renderOutput(dataTable, element);\n",
              "        const docLink = document.createElement('div');\n",
              "        docLink.innerHTML = docLinkHtml;\n",
              "        element.appendChild(docLink);\n",
              "      }\n",
              "    </script>\n",
              "  </div>\n",
              "\n",
              "\n",
              "    <div id=\"df-e544a3f6-6920-4c29-9cd7-f7e78a246d35\">\n",
              "      <button class=\"colab-df-quickchart\" onclick=\"quickchart('df-e544a3f6-6920-4c29-9cd7-f7e78a246d35')\"\n",
              "                title=\"Suggest charts\"\n",
              "                style=\"display:none;\">\n",
              "\n",
              "<svg xmlns=\"http://www.w3.org/2000/svg\" height=\"24px\"viewBox=\"0 0 24 24\"\n",
              "     width=\"24px\">\n",
              "    <g>\n",
              "        <path d=\"M19 3H5c-1.1 0-2 .9-2 2v14c0 1.1.9 2 2 2h14c1.1 0 2-.9 2-2V5c0-1.1-.9-2-2-2zM9 17H7v-7h2v7zm4 0h-2V7h2v10zm4 0h-2v-4h2v4z\"/>\n",
              "    </g>\n",
              "</svg>\n",
              "      </button>\n",
              "\n",
              "<style>\n",
              "  .colab-df-quickchart {\n",
              "      --bg-color: #E8F0FE;\n",
              "      --fill-color: #1967D2;\n",
              "      --hover-bg-color: #E2EBFA;\n",
              "      --hover-fill-color: #174EA6;\n",
              "      --disabled-fill-color: #AAA;\n",
              "      --disabled-bg-color: #DDD;\n",
              "  }\n",
              "\n",
              "  [theme=dark] .colab-df-quickchart {\n",
              "      --bg-color: #3B4455;\n",
              "      --fill-color: #D2E3FC;\n",
              "      --hover-bg-color: #434B5C;\n",
              "      --hover-fill-color: #FFFFFF;\n",
              "      --disabled-bg-color: #3B4455;\n",
              "      --disabled-fill-color: #666;\n",
              "  }\n",
              "\n",
              "  .colab-df-quickchart {\n",
              "    background-color: var(--bg-color);\n",
              "    border: none;\n",
              "    border-radius: 50%;\n",
              "    cursor: pointer;\n",
              "    display: none;\n",
              "    fill: var(--fill-color);\n",
              "    height: 32px;\n",
              "    padding: 0;\n",
              "    width: 32px;\n",
              "  }\n",
              "\n",
              "  .colab-df-quickchart:hover {\n",
              "    background-color: var(--hover-bg-color);\n",
              "    box-shadow: 0 1px 2px rgba(60, 64, 67, 0.3), 0 1px 3px 1px rgba(60, 64, 67, 0.15);\n",
              "    fill: var(--button-hover-fill-color);\n",
              "  }\n",
              "\n",
              "  .colab-df-quickchart-complete:disabled,\n",
              "  .colab-df-quickchart-complete:disabled:hover {\n",
              "    background-color: var(--disabled-bg-color);\n",
              "    fill: var(--disabled-fill-color);\n",
              "    box-shadow: none;\n",
              "  }\n",
              "\n",
              "  .colab-df-spinner {\n",
              "    border: 2px solid var(--fill-color);\n",
              "    border-color: transparent;\n",
              "    border-bottom-color: var(--fill-color);\n",
              "    animation:\n",
              "      spin 1s steps(1) infinite;\n",
              "  }\n",
              "\n",
              "  @keyframes spin {\n",
              "    0% {\n",
              "      border-color: transparent;\n",
              "      border-bottom-color: var(--fill-color);\n",
              "      border-left-color: var(--fill-color);\n",
              "    }\n",
              "    20% {\n",
              "      border-color: transparent;\n",
              "      border-left-color: var(--fill-color);\n",
              "      border-top-color: var(--fill-color);\n",
              "    }\n",
              "    30% {\n",
              "      border-color: transparent;\n",
              "      border-left-color: var(--fill-color);\n",
              "      border-top-color: var(--fill-color);\n",
              "      border-right-color: var(--fill-color);\n",
              "    }\n",
              "    40% {\n",
              "      border-color: transparent;\n",
              "      border-right-color: var(--fill-color);\n",
              "      border-top-color: var(--fill-color);\n",
              "    }\n",
              "    60% {\n",
              "      border-color: transparent;\n",
              "      border-right-color: var(--fill-color);\n",
              "    }\n",
              "    80% {\n",
              "      border-color: transparent;\n",
              "      border-right-color: var(--fill-color);\n",
              "      border-bottom-color: var(--fill-color);\n",
              "    }\n",
              "    90% {\n",
              "      border-color: transparent;\n",
              "      border-bottom-color: var(--fill-color);\n",
              "    }\n",
              "  }\n",
              "</style>\n",
              "\n",
              "      <script>\n",
              "        async function quickchart(key) {\n",
              "          const quickchartButtonEl =\n",
              "            document.querySelector('#' + key + ' button');\n",
              "          quickchartButtonEl.disabled = true;  // To prevent multiple clicks.\n",
              "          quickchartButtonEl.classList.add('colab-df-spinner');\n",
              "          try {\n",
              "            const charts = await google.colab.kernel.invokeFunction(\n",
              "                'suggestCharts', [key], {});\n",
              "          } catch (error) {\n",
              "            console.error('Error during call to suggestCharts:', error);\n",
              "          }\n",
              "          quickchartButtonEl.classList.remove('colab-df-spinner');\n",
              "          quickchartButtonEl.classList.add('colab-df-quickchart-complete');\n",
              "        }\n",
              "        (() => {\n",
              "          let quickchartButtonEl =\n",
              "            document.querySelector('#df-e544a3f6-6920-4c29-9cd7-f7e78a246d35 button');\n",
              "          quickchartButtonEl.style.display =\n",
              "            google.colab.kernel.accessAllowed ? 'block' : 'none';\n",
              "        })();\n",
              "      </script>\n",
              "    </div>\n",
              "    </div>\n",
              "  </div>\n"
            ],
            "application/vnd.google.colaboratory.intrinsic+json": {
              "type": "dataframe",
              "variable_name": "df",
              "summary": "{\n  \"name\": \"df\",\n  \"rows\": 5000,\n  \"fields\": [\n    {\n      \"column\": \"index\",\n      \"properties\": {\n        \"dtype\": \"number\",\n        \"std\": 2893,\n        \"min\": 2,\n        \"max\": 9999,\n        \"num_unique_values\": 5000,\n        \"samples\": [\n          4806,\n          87,\n          1798\n        ],\n        \"semantic_type\": \"\",\n        \"description\": \"\"\n      }\n    },\n    {\n      \"column\": \"\\u0417\\u043d\\u0430\\u0447\\u0435\\u043d\\u0438\\u044f\",\n      \"properties\": {\n        \"dtype\": \"number\",\n        \"std\": 0.9864148953111835,\n        \"min\": -4.05262186195198,\n        \"max\": 4.055710236567242,\n        \"num_unique_values\": 5000,\n        \"samples\": [\n          -0.5134709710186726,\n          0.058311291225622,\n          0.0920642751271957\n        ],\n        \"semantic_type\": \"\",\n        \"description\": \"\"\n      }\n    }\n  ]\n}"
            }
          },
          "metadata": {},
          "execution_count": 25
        }
      ]
    },
    {
      "cell_type": "code",
      "source": [
        "# Значения разбросаны в диапазоне от -4.052622 до 4.055710.\n",
        "# Диапазон можно разделить на 10 интервалов и посмотреть, сколько значений будет в каждом из них.\n",
        "bins = pd.cut(df[\"Значения\"], 10)\n",
        "bins"
      ],
      "metadata": {
        "colab": {
          "base_uri": "https://localhost:8080/",
          "height": 458
        },
        "id": "IiUxSV_VhsBr",
        "outputId": "b81774ba-9623-494a-dcb3-174a28c43ffe"
      },
      "execution_count": 26,
      "outputs": [
        {
          "output_type": "execute_result",
          "data": {
            "text/plain": [
              "0       (-4.061, -3.242]\n",
              "1       (-4.061, -3.242]\n",
              "2       (-4.061, -3.242]\n",
              "3       (-3.242, -2.431]\n",
              "4       (-3.242, -2.431]\n",
              "              ...       \n",
              "4995      (3.245, 4.056]\n",
              "4996      (3.245, 4.056]\n",
              "4997      (3.245, 4.056]\n",
              "4998      (3.245, 4.056]\n",
              "4999      (3.245, 4.056]\n",
              "Name: Значения, Length: 5000, dtype: category\n",
              "Categories (10, interval[float64, right]): [(-4.061, -3.242] < (-3.242, -2.431] < (-2.431, -1.62] <\n",
              "                                            (-1.62, -0.809] ... (0.812, 1.623] < (1.623, 2.434] <\n",
              "                                            (2.434, 3.245] < (3.245, 4.056]]"
            ],
            "text/html": [
              "<div>\n",
              "<style scoped>\n",
              "    .dataframe tbody tr th:only-of-type {\n",
              "        vertical-align: middle;\n",
              "    }\n",
              "\n",
              "    .dataframe tbody tr th {\n",
              "        vertical-align: top;\n",
              "    }\n",
              "\n",
              "    .dataframe thead th {\n",
              "        text-align: right;\n",
              "    }\n",
              "</style>\n",
              "<table border=\"1\" class=\"dataframe\">\n",
              "  <thead>\n",
              "    <tr style=\"text-align: right;\">\n",
              "      <th></th>\n",
              "      <th>Значения</th>\n",
              "    </tr>\n",
              "  </thead>\n",
              "  <tbody>\n",
              "    <tr>\n",
              "      <th>0</th>\n",
              "      <td>(-4.061, -3.242]</td>\n",
              "    </tr>\n",
              "    <tr>\n",
              "      <th>1</th>\n",
              "      <td>(-4.061, -3.242]</td>\n",
              "    </tr>\n",
              "    <tr>\n",
              "      <th>2</th>\n",
              "      <td>(-4.061, -3.242]</td>\n",
              "    </tr>\n",
              "    <tr>\n",
              "      <th>3</th>\n",
              "      <td>(-3.242, -2.431]</td>\n",
              "    </tr>\n",
              "    <tr>\n",
              "      <th>4</th>\n",
              "      <td>(-3.242, -2.431]</td>\n",
              "    </tr>\n",
              "    <tr>\n",
              "      <th>...</th>\n",
              "      <td>...</td>\n",
              "    </tr>\n",
              "    <tr>\n",
              "      <th>4995</th>\n",
              "      <td>(3.245, 4.056]</td>\n",
              "    </tr>\n",
              "    <tr>\n",
              "      <th>4996</th>\n",
              "      <td>(3.245, 4.056]</td>\n",
              "    </tr>\n",
              "    <tr>\n",
              "      <th>4997</th>\n",
              "      <td>(3.245, 4.056]</td>\n",
              "    </tr>\n",
              "    <tr>\n",
              "      <th>4998</th>\n",
              "      <td>(3.245, 4.056]</td>\n",
              "    </tr>\n",
              "    <tr>\n",
              "      <th>4999</th>\n",
              "      <td>(3.245, 4.056]</td>\n",
              "    </tr>\n",
              "  </tbody>\n",
              "</table>\n",
              "<p>5000 rows × 1 columns</p>\n",
              "</div><br><label><b>dtype:</b> category</label>"
            ]
          },
          "metadata": {},
          "execution_count": 26
        }
      ]
    },
    {
      "cell_type": "code",
      "source": [
        "df[\"Интервалы\"] = bins\n",
        "df"
      ],
      "metadata": {
        "colab": {
          "base_uri": "https://localhost:8080/",
          "height": 423
        },
        "id": "cLJ8Uyzdl1LK",
        "outputId": "b056b960-12c3-41da-dd86-712957428618"
      },
      "execution_count": 27,
      "outputs": [
        {
          "output_type": "execute_result",
          "data": {
            "text/plain": [
              "      index  Значения         Интервалы\n",
              "0       546 -4.052622  (-4.061, -3.242]\n",
              "1        96 -3.782219  (-4.061, -3.242]\n",
              "2       554 -3.273535  (-4.061, -3.242]\n",
              "3      5851 -3.215289  (-3.242, -2.431]\n",
              "4       471 -3.170771  (-3.242, -2.431]\n",
              "...     ...       ...               ...\n",
              "4995   6098  3.465258    (3.245, 4.056]\n",
              "4996   3445  3.670848    (3.245, 4.056]\n",
              "4997   1117  3.672873    (3.245, 4.056]\n",
              "4998   4958  3.974495    (3.245, 4.056]\n",
              "4999   3977  4.055710    (3.245, 4.056]\n",
              "\n",
              "[5000 rows x 3 columns]"
            ],
            "text/html": [
              "\n",
              "  <div id=\"df-d036a1f1-b9dd-4f1c-b1d9-b0496ba6a824\" class=\"colab-df-container\">\n",
              "    <div>\n",
              "<style scoped>\n",
              "    .dataframe tbody tr th:only-of-type {\n",
              "        vertical-align: middle;\n",
              "    }\n",
              "\n",
              "    .dataframe tbody tr th {\n",
              "        vertical-align: top;\n",
              "    }\n",
              "\n",
              "    .dataframe thead th {\n",
              "        text-align: right;\n",
              "    }\n",
              "</style>\n",
              "<table border=\"1\" class=\"dataframe\">\n",
              "  <thead>\n",
              "    <tr style=\"text-align: right;\">\n",
              "      <th></th>\n",
              "      <th>index</th>\n",
              "      <th>Значения</th>\n",
              "      <th>Интервалы</th>\n",
              "    </tr>\n",
              "  </thead>\n",
              "  <tbody>\n",
              "    <tr>\n",
              "      <th>0</th>\n",
              "      <td>546</td>\n",
              "      <td>-4.052622</td>\n",
              "      <td>(-4.061, -3.242]</td>\n",
              "    </tr>\n",
              "    <tr>\n",
              "      <th>1</th>\n",
              "      <td>96</td>\n",
              "      <td>-3.782219</td>\n",
              "      <td>(-4.061, -3.242]</td>\n",
              "    </tr>\n",
              "    <tr>\n",
              "      <th>2</th>\n",
              "      <td>554</td>\n",
              "      <td>-3.273535</td>\n",
              "      <td>(-4.061, -3.242]</td>\n",
              "    </tr>\n",
              "    <tr>\n",
              "      <th>3</th>\n",
              "      <td>5851</td>\n",
              "      <td>-3.215289</td>\n",
              "      <td>(-3.242, -2.431]</td>\n",
              "    </tr>\n",
              "    <tr>\n",
              "      <th>4</th>\n",
              "      <td>471</td>\n",
              "      <td>-3.170771</td>\n",
              "      <td>(-3.242, -2.431]</td>\n",
              "    </tr>\n",
              "    <tr>\n",
              "      <th>...</th>\n",
              "      <td>...</td>\n",
              "      <td>...</td>\n",
              "      <td>...</td>\n",
              "    </tr>\n",
              "    <tr>\n",
              "      <th>4995</th>\n",
              "      <td>6098</td>\n",
              "      <td>3.465258</td>\n",
              "      <td>(3.245, 4.056]</td>\n",
              "    </tr>\n",
              "    <tr>\n",
              "      <th>4996</th>\n",
              "      <td>3445</td>\n",
              "      <td>3.670848</td>\n",
              "      <td>(3.245, 4.056]</td>\n",
              "    </tr>\n",
              "    <tr>\n",
              "      <th>4997</th>\n",
              "      <td>1117</td>\n",
              "      <td>3.672873</td>\n",
              "      <td>(3.245, 4.056]</td>\n",
              "    </tr>\n",
              "    <tr>\n",
              "      <th>4998</th>\n",
              "      <td>4958</td>\n",
              "      <td>3.974495</td>\n",
              "      <td>(3.245, 4.056]</td>\n",
              "    </tr>\n",
              "    <tr>\n",
              "      <th>4999</th>\n",
              "      <td>3977</td>\n",
              "      <td>4.055710</td>\n",
              "      <td>(3.245, 4.056]</td>\n",
              "    </tr>\n",
              "  </tbody>\n",
              "</table>\n",
              "<p>5000 rows × 3 columns</p>\n",
              "</div>\n",
              "    <div class=\"colab-df-buttons\">\n",
              "\n",
              "  <div class=\"colab-df-container\">\n",
              "    <button class=\"colab-df-convert\" onclick=\"convertToInteractive('df-d036a1f1-b9dd-4f1c-b1d9-b0496ba6a824')\"\n",
              "            title=\"Convert this dataframe to an interactive table.\"\n",
              "            style=\"display:none;\">\n",
              "\n",
              "  <svg xmlns=\"http://www.w3.org/2000/svg\" height=\"24px\" viewBox=\"0 -960 960 960\">\n",
              "    <path d=\"M120-120v-720h720v720H120Zm60-500h600v-160H180v160Zm220 220h160v-160H400v160Zm0 220h160v-160H400v160ZM180-400h160v-160H180v160Zm440 0h160v-160H620v160ZM180-180h160v-160H180v160Zm440 0h160v-160H620v160Z\"/>\n",
              "  </svg>\n",
              "    </button>\n",
              "\n",
              "  <style>\n",
              "    .colab-df-container {\n",
              "      display:flex;\n",
              "      gap: 12px;\n",
              "    }\n",
              "\n",
              "    .colab-df-convert {\n",
              "      background-color: #E8F0FE;\n",
              "      border: none;\n",
              "      border-radius: 50%;\n",
              "      cursor: pointer;\n",
              "      display: none;\n",
              "      fill: #1967D2;\n",
              "      height: 32px;\n",
              "      padding: 0 0 0 0;\n",
              "      width: 32px;\n",
              "    }\n",
              "\n",
              "    .colab-df-convert:hover {\n",
              "      background-color: #E2EBFA;\n",
              "      box-shadow: 0px 1px 2px rgba(60, 64, 67, 0.3), 0px 1px 3px 1px rgba(60, 64, 67, 0.15);\n",
              "      fill: #174EA6;\n",
              "    }\n",
              "\n",
              "    .colab-df-buttons div {\n",
              "      margin-bottom: 4px;\n",
              "    }\n",
              "\n",
              "    [theme=dark] .colab-df-convert {\n",
              "      background-color: #3B4455;\n",
              "      fill: #D2E3FC;\n",
              "    }\n",
              "\n",
              "    [theme=dark] .colab-df-convert:hover {\n",
              "      background-color: #434B5C;\n",
              "      box-shadow: 0px 1px 3px 1px rgba(0, 0, 0, 0.15);\n",
              "      filter: drop-shadow(0px 1px 2px rgba(0, 0, 0, 0.3));\n",
              "      fill: #FFFFFF;\n",
              "    }\n",
              "  </style>\n",
              "\n",
              "    <script>\n",
              "      const buttonEl =\n",
              "        document.querySelector('#df-d036a1f1-b9dd-4f1c-b1d9-b0496ba6a824 button.colab-df-convert');\n",
              "      buttonEl.style.display =\n",
              "        google.colab.kernel.accessAllowed ? 'block' : 'none';\n",
              "\n",
              "      async function convertToInteractive(key) {\n",
              "        const element = document.querySelector('#df-d036a1f1-b9dd-4f1c-b1d9-b0496ba6a824');\n",
              "        const dataTable =\n",
              "          await google.colab.kernel.invokeFunction('convertToInteractive',\n",
              "                                                    [key], {});\n",
              "        if (!dataTable) return;\n",
              "\n",
              "        const docLinkHtml = 'Like what you see? Visit the ' +\n",
              "          '<a target=\"_blank\" href=https://colab.research.google.com/notebooks/data_table.ipynb>data table notebook</a>'\n",
              "          + ' to learn more about interactive tables.';\n",
              "        element.innerHTML = '';\n",
              "        dataTable['output_type'] = 'display_data';\n",
              "        await google.colab.output.renderOutput(dataTable, element);\n",
              "        const docLink = document.createElement('div');\n",
              "        docLink.innerHTML = docLinkHtml;\n",
              "        element.appendChild(docLink);\n",
              "      }\n",
              "    </script>\n",
              "  </div>\n",
              "\n",
              "\n",
              "    <div id=\"df-b84eca63-9a2b-4e29-bf9f-1f885622983d\">\n",
              "      <button class=\"colab-df-quickchart\" onclick=\"quickchart('df-b84eca63-9a2b-4e29-bf9f-1f885622983d')\"\n",
              "                title=\"Suggest charts\"\n",
              "                style=\"display:none;\">\n",
              "\n",
              "<svg xmlns=\"http://www.w3.org/2000/svg\" height=\"24px\"viewBox=\"0 0 24 24\"\n",
              "     width=\"24px\">\n",
              "    <g>\n",
              "        <path d=\"M19 3H5c-1.1 0-2 .9-2 2v14c0 1.1.9 2 2 2h14c1.1 0 2-.9 2-2V5c0-1.1-.9-2-2-2zM9 17H7v-7h2v7zm4 0h-2V7h2v10zm4 0h-2v-4h2v4z\"/>\n",
              "    </g>\n",
              "</svg>\n",
              "      </button>\n",
              "\n",
              "<style>\n",
              "  .colab-df-quickchart {\n",
              "      --bg-color: #E8F0FE;\n",
              "      --fill-color: #1967D2;\n",
              "      --hover-bg-color: #E2EBFA;\n",
              "      --hover-fill-color: #174EA6;\n",
              "      --disabled-fill-color: #AAA;\n",
              "      --disabled-bg-color: #DDD;\n",
              "  }\n",
              "\n",
              "  [theme=dark] .colab-df-quickchart {\n",
              "      --bg-color: #3B4455;\n",
              "      --fill-color: #D2E3FC;\n",
              "      --hover-bg-color: #434B5C;\n",
              "      --hover-fill-color: #FFFFFF;\n",
              "      --disabled-bg-color: #3B4455;\n",
              "      --disabled-fill-color: #666;\n",
              "  }\n",
              "\n",
              "  .colab-df-quickchart {\n",
              "    background-color: var(--bg-color);\n",
              "    border: none;\n",
              "    border-radius: 50%;\n",
              "    cursor: pointer;\n",
              "    display: none;\n",
              "    fill: var(--fill-color);\n",
              "    height: 32px;\n",
              "    padding: 0;\n",
              "    width: 32px;\n",
              "  }\n",
              "\n",
              "  .colab-df-quickchart:hover {\n",
              "    background-color: var(--hover-bg-color);\n",
              "    box-shadow: 0 1px 2px rgba(60, 64, 67, 0.3), 0 1px 3px 1px rgba(60, 64, 67, 0.15);\n",
              "    fill: var(--button-hover-fill-color);\n",
              "  }\n",
              "\n",
              "  .colab-df-quickchart-complete:disabled,\n",
              "  .colab-df-quickchart-complete:disabled:hover {\n",
              "    background-color: var(--disabled-bg-color);\n",
              "    fill: var(--disabled-fill-color);\n",
              "    box-shadow: none;\n",
              "  }\n",
              "\n",
              "  .colab-df-spinner {\n",
              "    border: 2px solid var(--fill-color);\n",
              "    border-color: transparent;\n",
              "    border-bottom-color: var(--fill-color);\n",
              "    animation:\n",
              "      spin 1s steps(1) infinite;\n",
              "  }\n",
              "\n",
              "  @keyframes spin {\n",
              "    0% {\n",
              "      border-color: transparent;\n",
              "      border-bottom-color: var(--fill-color);\n",
              "      border-left-color: var(--fill-color);\n",
              "    }\n",
              "    20% {\n",
              "      border-color: transparent;\n",
              "      border-left-color: var(--fill-color);\n",
              "      border-top-color: var(--fill-color);\n",
              "    }\n",
              "    30% {\n",
              "      border-color: transparent;\n",
              "      border-left-color: var(--fill-color);\n",
              "      border-top-color: var(--fill-color);\n",
              "      border-right-color: var(--fill-color);\n",
              "    }\n",
              "    40% {\n",
              "      border-color: transparent;\n",
              "      border-right-color: var(--fill-color);\n",
              "      border-top-color: var(--fill-color);\n",
              "    }\n",
              "    60% {\n",
              "      border-color: transparent;\n",
              "      border-right-color: var(--fill-color);\n",
              "    }\n",
              "    80% {\n",
              "      border-color: transparent;\n",
              "      border-right-color: var(--fill-color);\n",
              "      border-bottom-color: var(--fill-color);\n",
              "    }\n",
              "    90% {\n",
              "      border-color: transparent;\n",
              "      border-bottom-color: var(--fill-color);\n",
              "    }\n",
              "  }\n",
              "</style>\n",
              "\n",
              "      <script>\n",
              "        async function quickchart(key) {\n",
              "          const quickchartButtonEl =\n",
              "            document.querySelector('#' + key + ' button');\n",
              "          quickchartButtonEl.disabled = true;  // To prevent multiple clicks.\n",
              "          quickchartButtonEl.classList.add('colab-df-spinner');\n",
              "          try {\n",
              "            const charts = await google.colab.kernel.invokeFunction(\n",
              "                'suggestCharts', [key], {});\n",
              "          } catch (error) {\n",
              "            console.error('Error during call to suggestCharts:', error);\n",
              "          }\n",
              "          quickchartButtonEl.classList.remove('colab-df-spinner');\n",
              "          quickchartButtonEl.classList.add('colab-df-quickchart-complete');\n",
              "        }\n",
              "        (() => {\n",
              "          let quickchartButtonEl =\n",
              "            document.querySelector('#df-b84eca63-9a2b-4e29-bf9f-1f885622983d button');\n",
              "          quickchartButtonEl.style.display =\n",
              "            google.colab.kernel.accessAllowed ? 'block' : 'none';\n",
              "        })();\n",
              "      </script>\n",
              "    </div>\n",
              "    </div>\n",
              "  </div>\n"
            ],
            "application/vnd.google.colaboratory.intrinsic+json": {
              "type": "dataframe",
              "variable_name": "df",
              "summary": "{\n  \"name\": \"df\",\n  \"rows\": 5000,\n  \"fields\": [\n    {\n      \"column\": \"index\",\n      \"properties\": {\n        \"dtype\": \"number\",\n        \"std\": 2893,\n        \"min\": 2,\n        \"max\": 9999,\n        \"num_unique_values\": 5000,\n        \"samples\": [\n          4806,\n          87,\n          1798\n        ],\n        \"semantic_type\": \"\",\n        \"description\": \"\"\n      }\n    },\n    {\n      \"column\": \"\\u0417\\u043d\\u0430\\u0447\\u0435\\u043d\\u0438\\u044f\",\n      \"properties\": {\n        \"dtype\": \"number\",\n        \"std\": 0.9864148953111835,\n        \"min\": -4.05262186195198,\n        \"max\": 4.055710236567242,\n        \"num_unique_values\": 5000,\n        \"samples\": [\n          -0.5134709710186726,\n          0.058311291225622,\n          0.0920642751271957\n        ],\n        \"semantic_type\": \"\",\n        \"description\": \"\"\n      }\n    },\n    {\n      \"column\": \"\\u0418\\u043d\\u0442\\u0435\\u0440\\u0432\\u0430\\u043b\\u044b\",\n      \"properties\": {\n        \"dtype\": \"category\",\n        \"num_unique_values\": 10,\n        \"samples\": [\n          \"(2.434, 3.245]\",\n          \"(-3.242, -2.431]\",\n          \"(0.00154, 0.812]\"\n        ],\n        \"semantic_type\": \"\",\n        \"description\": \"\"\n      }\n    }\n  ]\n}"
            }
          },
          "metadata": {},
          "execution_count": 27
        }
      ]
    },
    {
      "cell_type": "code",
      "source": [
        "# Группировка значений по интервалам.\n",
        "temp = df.groupby('Интервалы')\n",
        "\n",
        "# Группированный статистический ряд абсолютных частот.\n",
        "Series = temp.agg({'Интервалы': 'count'})\n",
        "\n",
        "print(Series)"
      ],
      "metadata": {
        "colab": {
          "base_uri": "https://localhost:8080/"
        },
        "id": "Uo-CtKTCl2Cv",
        "outputId": "e852e4fa-ad58-4403-df80-b0bfce385aeb"
      },
      "execution_count": 28,
      "outputs": [
        {
          "output_type": "stream",
          "name": "stdout",
          "text": [
            "                   Интервалы\n",
            "Интервалы                   \n",
            "(-4.061, -3.242]           3\n",
            "(-3.242, -2.431]          36\n",
            "(-2.431, -1.62]          213\n",
            "(-1.62, -0.809]          746\n",
            "(-0.809, 0.00154]       1475\n",
            "(0.00154, 0.812]        1509\n",
            "(0.812, 1.623]           768\n",
            "(1.623, 2.434]           221\n",
            "(2.434, 3.245]            23\n",
            "(3.245, 4.056]             6\n"
          ]
        },
        {
          "output_type": "stream",
          "name": "stderr",
          "text": [
            "<ipython-input-28-d383092dd0ef>:2: FutureWarning: The default of observed=False is deprecated and will be changed to True in a future version of pandas. Pass observed=False to retain current behavior or observed=True to adopt the future default and silence this warning.\n",
            "  temp = df.groupby('Интервалы')\n"
          ]
        }
      ]
    },
    {
      "cell_type": "code",
      "source": [
        "# Группированный статистический ряд абсолютных частот.\n",
        "Series = Series.rename(columns={\"Интервалы\": \"Количество значений, попавших в интервал\"})\n",
        "temp = df['Интервалы'].unique()\n",
        "Series[\"Интервалы\"] = temp\n",
        "\n",
        "Series"
      ],
      "metadata": {
        "colab": {
          "base_uri": "https://localhost:8080/",
          "height": 394
        },
        "id": "liOsnreZqx8a",
        "outputId": "f9b08690-14b7-4806-8ae6-54fc5d5b31a5"
      },
      "execution_count": 29,
      "outputs": [
        {
          "output_type": "execute_result",
          "data": {
            "text/plain": [
              "                   Количество значений, попавших в интервал          Интервалы\n",
              "Интервалы                                                                     \n",
              "(-4.061, -3.242]                                          3   (-4.061, -3.242]\n",
              "(-3.242, -2.431]                                         36   (-3.242, -2.431]\n",
              "(-2.431, -1.62]                                         213    (-2.431, -1.62]\n",
              "(-1.62, -0.809]                                         746    (-1.62, -0.809]\n",
              "(-0.809, 0.00154]                                      1475  (-0.809, 0.00154]\n",
              "(0.00154, 0.812]                                       1509   (0.00154, 0.812]\n",
              "(0.812, 1.623]                                          768     (0.812, 1.623]\n",
              "(1.623, 2.434]                                          221     (1.623, 2.434]\n",
              "(2.434, 3.245]                                           23     (2.434, 3.245]\n",
              "(3.245, 4.056]                                            6     (3.245, 4.056]"
            ],
            "text/html": [
              "\n",
              "  <div id=\"df-9605498a-74db-42b7-aafd-c55c6d68ab7a\" class=\"colab-df-container\">\n",
              "    <div>\n",
              "<style scoped>\n",
              "    .dataframe tbody tr th:only-of-type {\n",
              "        vertical-align: middle;\n",
              "    }\n",
              "\n",
              "    .dataframe tbody tr th {\n",
              "        vertical-align: top;\n",
              "    }\n",
              "\n",
              "    .dataframe thead th {\n",
              "        text-align: right;\n",
              "    }\n",
              "</style>\n",
              "<table border=\"1\" class=\"dataframe\">\n",
              "  <thead>\n",
              "    <tr style=\"text-align: right;\">\n",
              "      <th></th>\n",
              "      <th>Количество значений, попавших в интервал</th>\n",
              "      <th>Интервалы</th>\n",
              "    </tr>\n",
              "    <tr>\n",
              "      <th>Интервалы</th>\n",
              "      <th></th>\n",
              "      <th></th>\n",
              "    </tr>\n",
              "  </thead>\n",
              "  <tbody>\n",
              "    <tr>\n",
              "      <th>(-4.061, -3.242]</th>\n",
              "      <td>3</td>\n",
              "      <td>(-4.061, -3.242]</td>\n",
              "    </tr>\n",
              "    <tr>\n",
              "      <th>(-3.242, -2.431]</th>\n",
              "      <td>36</td>\n",
              "      <td>(-3.242, -2.431]</td>\n",
              "    </tr>\n",
              "    <tr>\n",
              "      <th>(-2.431, -1.62]</th>\n",
              "      <td>213</td>\n",
              "      <td>(-2.431, -1.62]</td>\n",
              "    </tr>\n",
              "    <tr>\n",
              "      <th>(-1.62, -0.809]</th>\n",
              "      <td>746</td>\n",
              "      <td>(-1.62, -0.809]</td>\n",
              "    </tr>\n",
              "    <tr>\n",
              "      <th>(-0.809, 0.00154]</th>\n",
              "      <td>1475</td>\n",
              "      <td>(-0.809, 0.00154]</td>\n",
              "    </tr>\n",
              "    <tr>\n",
              "      <th>(0.00154, 0.812]</th>\n",
              "      <td>1509</td>\n",
              "      <td>(0.00154, 0.812]</td>\n",
              "    </tr>\n",
              "    <tr>\n",
              "      <th>(0.812, 1.623]</th>\n",
              "      <td>768</td>\n",
              "      <td>(0.812, 1.623]</td>\n",
              "    </tr>\n",
              "    <tr>\n",
              "      <th>(1.623, 2.434]</th>\n",
              "      <td>221</td>\n",
              "      <td>(1.623, 2.434]</td>\n",
              "    </tr>\n",
              "    <tr>\n",
              "      <th>(2.434, 3.245]</th>\n",
              "      <td>23</td>\n",
              "      <td>(2.434, 3.245]</td>\n",
              "    </tr>\n",
              "    <tr>\n",
              "      <th>(3.245, 4.056]</th>\n",
              "      <td>6</td>\n",
              "      <td>(3.245, 4.056]</td>\n",
              "    </tr>\n",
              "  </tbody>\n",
              "</table>\n",
              "</div>\n",
              "    <div class=\"colab-df-buttons\">\n",
              "\n",
              "  <div class=\"colab-df-container\">\n",
              "    <button class=\"colab-df-convert\" onclick=\"convertToInteractive('df-9605498a-74db-42b7-aafd-c55c6d68ab7a')\"\n",
              "            title=\"Convert this dataframe to an interactive table.\"\n",
              "            style=\"display:none;\">\n",
              "\n",
              "  <svg xmlns=\"http://www.w3.org/2000/svg\" height=\"24px\" viewBox=\"0 -960 960 960\">\n",
              "    <path d=\"M120-120v-720h720v720H120Zm60-500h600v-160H180v160Zm220 220h160v-160H400v160Zm0 220h160v-160H400v160ZM180-400h160v-160H180v160Zm440 0h160v-160H620v160ZM180-180h160v-160H180v160Zm440 0h160v-160H620v160Z\"/>\n",
              "  </svg>\n",
              "    </button>\n",
              "\n",
              "  <style>\n",
              "    .colab-df-container {\n",
              "      display:flex;\n",
              "      gap: 12px;\n",
              "    }\n",
              "\n",
              "    .colab-df-convert {\n",
              "      background-color: #E8F0FE;\n",
              "      border: none;\n",
              "      border-radius: 50%;\n",
              "      cursor: pointer;\n",
              "      display: none;\n",
              "      fill: #1967D2;\n",
              "      height: 32px;\n",
              "      padding: 0 0 0 0;\n",
              "      width: 32px;\n",
              "    }\n",
              "\n",
              "    .colab-df-convert:hover {\n",
              "      background-color: #E2EBFA;\n",
              "      box-shadow: 0px 1px 2px rgba(60, 64, 67, 0.3), 0px 1px 3px 1px rgba(60, 64, 67, 0.15);\n",
              "      fill: #174EA6;\n",
              "    }\n",
              "\n",
              "    .colab-df-buttons div {\n",
              "      margin-bottom: 4px;\n",
              "    }\n",
              "\n",
              "    [theme=dark] .colab-df-convert {\n",
              "      background-color: #3B4455;\n",
              "      fill: #D2E3FC;\n",
              "    }\n",
              "\n",
              "    [theme=dark] .colab-df-convert:hover {\n",
              "      background-color: #434B5C;\n",
              "      box-shadow: 0px 1px 3px 1px rgba(0, 0, 0, 0.15);\n",
              "      filter: drop-shadow(0px 1px 2px rgba(0, 0, 0, 0.3));\n",
              "      fill: #FFFFFF;\n",
              "    }\n",
              "  </style>\n",
              "\n",
              "    <script>\n",
              "      const buttonEl =\n",
              "        document.querySelector('#df-9605498a-74db-42b7-aafd-c55c6d68ab7a button.colab-df-convert');\n",
              "      buttonEl.style.display =\n",
              "        google.colab.kernel.accessAllowed ? 'block' : 'none';\n",
              "\n",
              "      async function convertToInteractive(key) {\n",
              "        const element = document.querySelector('#df-9605498a-74db-42b7-aafd-c55c6d68ab7a');\n",
              "        const dataTable =\n",
              "          await google.colab.kernel.invokeFunction('convertToInteractive',\n",
              "                                                    [key], {});\n",
              "        if (!dataTable) return;\n",
              "\n",
              "        const docLinkHtml = 'Like what you see? Visit the ' +\n",
              "          '<a target=\"_blank\" href=https://colab.research.google.com/notebooks/data_table.ipynb>data table notebook</a>'\n",
              "          + ' to learn more about interactive tables.';\n",
              "        element.innerHTML = '';\n",
              "        dataTable['output_type'] = 'display_data';\n",
              "        await google.colab.output.renderOutput(dataTable, element);\n",
              "        const docLink = document.createElement('div');\n",
              "        docLink.innerHTML = docLinkHtml;\n",
              "        element.appendChild(docLink);\n",
              "      }\n",
              "    </script>\n",
              "  </div>\n",
              "\n",
              "\n",
              "    <div id=\"df-85099450-23e7-410a-93ee-df205955cd88\">\n",
              "      <button class=\"colab-df-quickchart\" onclick=\"quickchart('df-85099450-23e7-410a-93ee-df205955cd88')\"\n",
              "                title=\"Suggest charts\"\n",
              "                style=\"display:none;\">\n",
              "\n",
              "<svg xmlns=\"http://www.w3.org/2000/svg\" height=\"24px\"viewBox=\"0 0 24 24\"\n",
              "     width=\"24px\">\n",
              "    <g>\n",
              "        <path d=\"M19 3H5c-1.1 0-2 .9-2 2v14c0 1.1.9 2 2 2h14c1.1 0 2-.9 2-2V5c0-1.1-.9-2-2-2zM9 17H7v-7h2v7zm4 0h-2V7h2v10zm4 0h-2v-4h2v4z\"/>\n",
              "    </g>\n",
              "</svg>\n",
              "      </button>\n",
              "\n",
              "<style>\n",
              "  .colab-df-quickchart {\n",
              "      --bg-color: #E8F0FE;\n",
              "      --fill-color: #1967D2;\n",
              "      --hover-bg-color: #E2EBFA;\n",
              "      --hover-fill-color: #174EA6;\n",
              "      --disabled-fill-color: #AAA;\n",
              "      --disabled-bg-color: #DDD;\n",
              "  }\n",
              "\n",
              "  [theme=dark] .colab-df-quickchart {\n",
              "      --bg-color: #3B4455;\n",
              "      --fill-color: #D2E3FC;\n",
              "      --hover-bg-color: #434B5C;\n",
              "      --hover-fill-color: #FFFFFF;\n",
              "      --disabled-bg-color: #3B4455;\n",
              "      --disabled-fill-color: #666;\n",
              "  }\n",
              "\n",
              "  .colab-df-quickchart {\n",
              "    background-color: var(--bg-color);\n",
              "    border: none;\n",
              "    border-radius: 50%;\n",
              "    cursor: pointer;\n",
              "    display: none;\n",
              "    fill: var(--fill-color);\n",
              "    height: 32px;\n",
              "    padding: 0;\n",
              "    width: 32px;\n",
              "  }\n",
              "\n",
              "  .colab-df-quickchart:hover {\n",
              "    background-color: var(--hover-bg-color);\n",
              "    box-shadow: 0 1px 2px rgba(60, 64, 67, 0.3), 0 1px 3px 1px rgba(60, 64, 67, 0.15);\n",
              "    fill: var(--button-hover-fill-color);\n",
              "  }\n",
              "\n",
              "  .colab-df-quickchart-complete:disabled,\n",
              "  .colab-df-quickchart-complete:disabled:hover {\n",
              "    background-color: var(--disabled-bg-color);\n",
              "    fill: var(--disabled-fill-color);\n",
              "    box-shadow: none;\n",
              "  }\n",
              "\n",
              "  .colab-df-spinner {\n",
              "    border: 2px solid var(--fill-color);\n",
              "    border-color: transparent;\n",
              "    border-bottom-color: var(--fill-color);\n",
              "    animation:\n",
              "      spin 1s steps(1) infinite;\n",
              "  }\n",
              "\n",
              "  @keyframes spin {\n",
              "    0% {\n",
              "      border-color: transparent;\n",
              "      border-bottom-color: var(--fill-color);\n",
              "      border-left-color: var(--fill-color);\n",
              "    }\n",
              "    20% {\n",
              "      border-color: transparent;\n",
              "      border-left-color: var(--fill-color);\n",
              "      border-top-color: var(--fill-color);\n",
              "    }\n",
              "    30% {\n",
              "      border-color: transparent;\n",
              "      border-left-color: var(--fill-color);\n",
              "      border-top-color: var(--fill-color);\n",
              "      border-right-color: var(--fill-color);\n",
              "    }\n",
              "    40% {\n",
              "      border-color: transparent;\n",
              "      border-right-color: var(--fill-color);\n",
              "      border-top-color: var(--fill-color);\n",
              "    }\n",
              "    60% {\n",
              "      border-color: transparent;\n",
              "      border-right-color: var(--fill-color);\n",
              "    }\n",
              "    80% {\n",
              "      border-color: transparent;\n",
              "      border-right-color: var(--fill-color);\n",
              "      border-bottom-color: var(--fill-color);\n",
              "    }\n",
              "    90% {\n",
              "      border-color: transparent;\n",
              "      border-bottom-color: var(--fill-color);\n",
              "    }\n",
              "  }\n",
              "</style>\n",
              "\n",
              "      <script>\n",
              "        async function quickchart(key) {\n",
              "          const quickchartButtonEl =\n",
              "            document.querySelector('#' + key + ' button');\n",
              "          quickchartButtonEl.disabled = true;  // To prevent multiple clicks.\n",
              "          quickchartButtonEl.classList.add('colab-df-spinner');\n",
              "          try {\n",
              "            const charts = await google.colab.kernel.invokeFunction(\n",
              "                'suggestCharts', [key], {});\n",
              "          } catch (error) {\n",
              "            console.error('Error during call to suggestCharts:', error);\n",
              "          }\n",
              "          quickchartButtonEl.classList.remove('colab-df-spinner');\n",
              "          quickchartButtonEl.classList.add('colab-df-quickchart-complete');\n",
              "        }\n",
              "        (() => {\n",
              "          let quickchartButtonEl =\n",
              "            document.querySelector('#df-85099450-23e7-410a-93ee-df205955cd88 button');\n",
              "          quickchartButtonEl.style.display =\n",
              "            google.colab.kernel.accessAllowed ? 'block' : 'none';\n",
              "        })();\n",
              "      </script>\n",
              "    </div>\n",
              "    </div>\n",
              "  </div>\n"
            ],
            "application/vnd.google.colaboratory.intrinsic+json": {
              "type": "dataframe",
              "variable_name": "Series",
              "repr_error": "cannot insert Интервалы, already exists"
            }
          },
          "metadata": {},
          "execution_count": 29
        }
      ]
    },
    {
      "cell_type": "code",
      "source": [
        "import seaborn as sns\n",
        "\n",
        "x1 = Series[\"Интервалы\"]\n",
        "y = Series[\"Количество значений, попавших в интервал\"]\n",
        "sns.barplot(x=x1, y=y)\n",
        "plt.title(\"Группированный статистический ряд абсолютных частот.\")\n",
        "plt.show()"
      ],
      "metadata": {
        "colab": {
          "base_uri": "https://localhost:8080/",
          "height": 472
        },
        "id": "mUX83wwXq3Kw",
        "outputId": "1f3c2b40-7116-4601-9643-8919c5ac0874"
      },
      "execution_count": 30,
      "outputs": [
        {
          "output_type": "display_data",
          "data": {
            "text/plain": [
              "<Figure size 640x480 with 1 Axes>"
            ],
            "image/png": "[encoded data removed]"
          },
          "metadata": {}
        }
      ]
    },
    {
      "cell_type": "code",
      "source": [
        "df['Значения'].plot(kind='hist', bins=20, title='Значения')\n",
        "plt.gca().spines[['top', 'right',]].set_visible(False)"
      ],
      "metadata": {
        "colab": {
          "base_uri": "https://localhost:8080/",
          "height": 452
        },
        "id": "oU79f3jaepZt",
        "outputId": "c0a007f3-0173-4b34-95d3-68ab479fd296"
      },
      "execution_count": 31,
      "outputs": [
        {
          "output_type": "display_data",
          "data": {
            "text/plain": [
              "<Figure size 640x480 with 1 Axes>"
            ],
            "image/png": "[encoded data removed]"
          },
          "metadata": {}
        }
      ]
    },
    {
      "cell_type": "code",
      "source": [
        "statsmodels.graphics.gofplots.qqplot(df[\"Значения\"], scipy.stats.norm, line = \"45\")\n",
        "plt.title(\"График квантиль-квантиль.\")\n",
        "plt.show()\n"
      ],
      "metadata": {
        "colab": {
          "base_uri": "https://localhost:8080/",
          "height": 472
        },
        "id": "UV1dCHFOsMrI",
        "outputId": "64dbeb20-1970-4203-87dc-a6c113c737a2"
      },
      "execution_count": 32,
      "outputs": [
        {
          "output_type": "display_data",
          "data": {
            "text/plain": [
              "<Figure size 640x480 with 1 Axes>"
            ],
            "image/png": "[encoded data removed]"
          },
          "metadata": {}
        }
      ]
    },
    {
      "cell_type": "code",
      "source": [
        "print(\"Выборочное математическое ожидание: \", df[\"Значения\"].mean())\n",
        "print(\"Выборочная дисперсия: \", df[\"Значения\"].var())\n",
        "print(\"Выборочное ско: \", df[\"Значения\"].std())\n",
        "print(\"Выборочный коэффициент ассиметрии: \", df[\"Значения\"].skew())\n",
        "print(\"Выборочный эксцесс: \", df[\"Значения\"].kurtosis())"
      ],
      "metadata": {
        "colab": {
          "base_uri": "https://localhost:8080/"
        },
        "id": "ERNNJyPzq48b",
        "outputId": "f247e89b-291a-487c-efb1-16519aa3de3a"
      },
      "execution_count": 33,
      "outputs": [
        {
          "output_type": "stream",
          "name": "stdout",
          "text": [
            "Выборочное математическое ожидание:  0.006199145845556086\n",
            "Выборочная дисперсия:  0.9730143456917733\n",
            "Выборочное ско:  0.9864148953111835\n",
            "Выборочный коэффициент ассиметрии:  -0.014846836903625062\n",
            "Выборочный эксцесс:  0.15147786517018824\n"
          ]
        }
      ]
    },
    {
      "cell_type": "markdown",
      "source": [
        "**Вывод.**\n",
        "\n",
        "На основани вида графика и значений выборочных параметров можно выдвинуть гипотезу - случайная величина имеет стандартное нормальное распределение."
      ],
      "metadata": {
        "id": "zzqUgPmnp2jg"
      }
    },
    {
      "cell_type": "markdown",
      "source": [
        "## Проверка гипотезы по гитерию Шапиро-Уилка"
      ],
      "metadata": {
        "id": "4mbWkisAVd-4"
      }
    },
    {
      "cell_type": "markdown",
      "source": [
        "Не знаю, как тут указать параметры, чтобы проверялось именно стандартное распределение, а не произвольное."
      ],
      "metadata": {
        "id": "LynllIVip7Dp"
      }
    },
    {
      "cell_type": "code",
      "source": [
        "scipy.stats.shapiro(df[\"Значения\"])"
      ],
      "metadata": {
        "colab": {
          "base_uri": "https://localhost:8080/"
        },
        "id": "BnQfwhxVrAzv",
        "outputId": "a3d4c2cf-b919-4817-de2f-096a4b8a0c71"
      },
      "execution_count": 34,
      "outputs": [
        {
          "output_type": "execute_result",
          "data": {
            "text/plain": [
              "ShapiroResult(statistic=np.float64(0.9994041999512644), pvalue=np.float64(0.10444373368490656))"
            ]
          },
          "metadata": {},
          "execution_count": 34
        }
      ]
    },
    {
      "cell_type": "markdown",
      "source": [
        "**Вывод.**\n",
        "\n",
        "Гипотеза принимается при всех заданных уровнях значимости."
      ],
      "metadata": {
        "id": "rFpowftkp8dP"
      }
    },
    {
      "cell_type": "markdown",
      "source": [
        "## Проверка гипотезы по критерию Колмогорова-Смирнова"
      ],
      "metadata": {
        "id": "u7o6Hq5oWWI_"
      }
    },
    {
      "cell_type": "code",
      "source": [
        "KSTest = scipy.stats.kstest(df[\"Значения\"] , \"norm\", args = (0, 1))\n",
        "print(\"Наблюдаемое значение критерия: \", KSTest[0])\n",
        "print(\"P-значение: \", KSTest[1])\n"
      ],
      "metadata": {
        "colab": {
          "base_uri": "https://localhost:8080/"
        },
        "id": "vLqNONjcs7Ya",
        "outputId": "ea380421-0705-468b-baf9-8cc21b3a6ec1"
      },
      "execution_count": 35,
      "outputs": [
        {
          "output_type": "stream",
          "name": "stdout",
          "text": [
            "Наблюдаемое значение критерия:  0.010775597110358026\n",
            "P-значение:  0.603166763686511\n"
          ]
        }
      ]
    },
    {
      "cell_type": "markdown",
      "source": [
        "Проверка через наблюдаемое значение критерия."
      ],
      "metadata": {
        "id": "KHAN-EXrbzdq"
      }
    },
    {
      "cell_type": "code",
      "source": [
        "print(\"Критические значения: \")\n",
        "for i in gammas:\n",
        "    print(scipy.stats.kstwo.ppf(i, len(df)))\n"
      ],
      "metadata": {
        "colab": {
          "base_uri": "https://localhost:8080/"
        },
        "id": "HCcqwbwjY4wQ",
        "outputId": "a8ea712a-1028-4ee5-b320-25a5a670b9a7"
      },
      "execution_count": 36,
      "outputs": [
        {
          "output_type": "stream",
          "name": "stdout",
          "text": [
            "Критические значения: \n",
            "0.024443073826368178\n",
            "0.022983922603082615\n",
            "0.019172751333714884\n"
          ]
        }
      ]
    },
    {
      "cell_type": "markdown",
      "source": [
        "**Вывод.**\n",
        "\n",
        "Гипотезу можно принять при любом уровне значимости, так как наблюдаемое значение критерия меньше критического значения для всех уровней значимости.\n",
        "\n",
        "P-значение больше всех уровней значимости, следовательно гипотезу можно принять при любом из них."
      ],
      "metadata": {
        "id": "wL-Gd6-uZyRm"
      }
    },
    {
      "cell_type": "markdown",
      "source": [
        "## Проверка гипотезы по критерию хи-квадрат"
      ],
      "metadata": {
        "id": "FEe10vwmX5Ux"
      }
    },
    {
      "cell_type": "markdown",
      "source": [
        "Зададим вероятности попадания в интервалы."
      ],
      "metadata": {
        "id": "QQvcTcD4cXvD"
      }
    },
    {
      "cell_type": "code",
      "source": [
        "# Normal distribution\n",
        "# Нормальное распределение\n",
        "NormDist = scipy.stats.norm()\n",
        "ExpectedFrequencies = []\n",
        "\n",
        "print(\"Вероятности: \")\n",
        "\n",
        "for i in temp:\n",
        "    # вероятность попадания в интервал.\n",
        "    Pi = NormDist.cdf(i.right)- NormDist.cdf(i.left)\n",
        "    print(Pi)\n",
        "    ExpectedFrequencies.append(Pi*len(df))\n",
        "print()\n",
        "print(\"Частоты: \")\n",
        "for i in ExpectedFrequencies:\n",
        "    print(i)"
      ],
      "metadata": {
        "colab": {
          "base_uri": "https://localhost:8080/"
        },
        "id": "Pu98uLdzxqSW",
        "outputId": "8a82344c-9a9e-41c7-9c2c-195869347f11"
      },
      "execution_count": 37,
      "outputs": [
        {
          "output_type": "stream",
          "name": "stdout",
          "text": [
            "Вероятности: \n",
            "0.0005690386263318178\n",
            "0.006935137167966386\n",
            "0.04508753117419574\n",
            "0.15664143468225306\n",
            "0.29135679773247275\n",
            "0.2909898133843909\n",
            "0.15610111331276832\n",
            "0.04482820488963901\n",
            "0.006879244425943454\n",
            "0.0005622929886858197\n",
            "\n",
            "Частоты: \n",
            "2.845193131659089\n",
            "34.67568583983193\n",
            "225.43765587097872\n",
            "783.2071734112653\n",
            "1456.7839886623638\n",
            "1454.9490669219545\n",
            "780.5055665638416\n",
            "224.14102444819505\n",
            "34.396222129717266\n",
            "2.8114649434290984\n"
          ]
        }
      ]
    },
    {
      "cell_type": "code",
      "source": [
        "print(scipy.stats.chisquare(Series[\"Количество значений, попавших в интервал\"], ExpectedFrequencies, sum_check = False))"
      ],
      "metadata": {
        "colab": {
          "base_uri": "https://localhost:8080/"
        },
        "id": "aCR2_d6-zeQo",
        "outputId": "87f610cb-f983-4f61-e206-927da42bb266"
      },
      "execution_count": 38,
      "outputs": [
        {
          "output_type": "stream",
          "name": "stdout",
          "text": [
            "Power_divergenceResult(statistic=np.float64(12.38490648727235), pvalue=np.float64(0.19246940361452528))\n"
          ]
        }
      ]
    },
    {
      "cell_type": "code",
      "source": [
        "a = scipy.stats.chi2(len(df)-1)\n",
        "for i in alphas:\n",
        "    #print(scipy.stats.chi2.ppf(i, len(df)))\n",
        "    print(a.ppf(i))"
      ],
      "metadata": {
        "colab": {
          "base_uri": "https://localhost:8080/"
        },
        "id": "jDQ2Tt2nY6ks",
        "outputId": "f35bf1b9-84c1-496d-9810-0f4fed56a940"
      },
      "execution_count": 39,
      "outputs": [
        {
          "output_type": "stream",
          "name": "stdout",
          "text": [
            "4745.20030968622\n",
            "4769.333735992841\n",
            "4835.675940211096\n"
          ]
        }
      ]
    },
    {
      "cell_type": "markdown",
      "source": [
        "**Вывод.**\n",
        "\n",
        "Гипотеза принимается при всех уровнях значимости."
      ],
      "metadata": {
        "id": "NGxDgN2KrWHt"
      }
    }
  ]
}