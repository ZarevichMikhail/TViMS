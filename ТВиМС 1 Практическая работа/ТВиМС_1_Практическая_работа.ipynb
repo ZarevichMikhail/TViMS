{
  "nbformat": 4,
  "nbformat_minor": 0,
  "metadata": {
    "colab": {
      "provenance": [],
      "collapsed_sections": [
        "pgEtYwYJk-CP"
      ]
    },
    "kernelspec": {
      "name": "python3",
      "display_name": "Python 3"
    },
    "language_info": {
      "name": "python"
    }
  },
  "cells": [
    {
      "cell_type": "markdown",
      "source": [
        "# Заревич Михаил 513-2"
      ],
      "metadata": {
        "id": "IhOz53XetYqq"
      }
    },
    {
      "cell_type": "code",
      "execution_count": 2,
      "metadata": {
        "id": "bWD_kWNTsJUj"
      },
      "outputs": [],
      "source": [
        "import math\n",
        "import pandas as pd\n",
        "import matplotlib.pyplot as plt\n"
      ]
    },
    {
      "cell_type": "code",
      "source": [
        "# загрузил вариант в папку content\n",
        "df = pd.read_csv(\"/content/variant30.csv\")\n",
        "\n",
        "# кортеж (количество строк(т.е. объём выборки), количество столбцов)\n",
        "print(df.shape)\n",
        "\n",
        "print(df)"
      ],
      "metadata": {
        "colab": {
          "base_uri": "https://localhost:8080/"
        },
        "collapsed": true,
        "id": "cOVV6uLTsSsr",
        "outputId": "ec52cf56-5e72-4795-f3ed-cb0c02825fa2"
      },
      "execution_count": 3,
      "outputs": [
        {
          "output_type": "stream",
          "name": "stdout",
          "text": [
            "(100000, 2)\n",
            "       Unnamed: 0 SEX\n",
            "0               0   F\n",
            "1               1   F\n",
            "2               2   F\n",
            "3               3   M\n",
            "4               4   F\n",
            "...           ...  ..\n",
            "99995       99995   M\n",
            "99996       99996   F\n",
            "99997       99997   F\n",
            "99998       99998   F\n",
            "99999       99999   F\n",
            "\n",
            "[100000 rows x 2 columns]\n"
          ]
        }
      ]
    },
    {
      "cell_type": "markdown",
      "source": [
        "## Тест"
      ],
      "metadata": {
        "id": "pgEtYwYJk-CP"
      }
    },
    {
      "cell_type": "code",
      "source": [
        "# тест, задание дальше\n",
        "# df с количествами значений M и F\n",
        "count_values = df['SEX'].value_counts()\n",
        "print(count_values)\n",
        "\n",
        "# считает m и f отдельно\n",
        "print(\"m и f отдельно\")\n",
        "m_count = count_values[\"M\"]\n",
        "f_count = count_values[\"F\"]\n",
        "print(m_count,f_count)\n",
        "\n",
        "# относительная частота\n",
        "# df.shape[0] - количество строк, т.е. объём выборки\n",
        "print(\"Относительная частота\")\n",
        "print(m_count/df.shape[0])"
      ],
      "metadata": {
        "colab": {
          "base_uri": "https://localhost:8080/"
        },
        "id": "29ilWQuN8jWL",
        "outputId": "ac30f1a3-866a-4757-b4c2-94ea95654f7c"
      },
      "execution_count": 29,
      "outputs": [
        {
          "output_type": "stream",
          "name": "stdout",
          "text": [
            "SEX\n",
            "M    51018\n",
            "F    48982\n",
            "Name: count, dtype: int64\n",
            "m и f отдельно\n",
            "51018 48982\n",
            "Относительная частота\n",
            "0.51018\n"
          ]
        }
      ]
    },
    {
      "cell_type": "markdown",
      "source": [
        "## Задание"
      ],
      "metadata": {
        "id": "zQQvCwCak7NU"
      }
    },
    {
      "cell_type": "code",
      "source": [
        "# датафрейм для хранения выборок\n",
        "new_df = pd.DataFrame({\"Объём выборки\": [], \"Относительная частота рождения мальчика\": []})\n",
        "\n",
        "# Из заданной выборки составьте по 100 выборок меньшего\n",
        "# объёма каждый раз уменьшая объём выборки на порядок.\n",
        "for i in range(2,4+1):\n",
        "\n",
        "    # 100 выборок по 10^2, по 10^3, 10^4, 10^5 - это уже 100 000, это значение добавлю отдельно\n",
        "    n = 10**i\n",
        "\n",
        "    for j in range(100):\n",
        "\n",
        "        # Рассчитайте относительную частоту появления мальчика\n",
        "        # для каждой составленной выборки.\n",
        "\n",
        "        # sample - случайная выборка\n",
        "        # n - количество элементов в выборке\n",
        "        df_sample = df.sample(n)\n",
        "\n",
        "        # df с количествами значений M и F\n",
        "        count_values = df_sample['SEX'].value_counts()\n",
        "        # считает m отдельно\n",
        "        m_count = count_values[\"M\"]\n",
        "\n",
        "        # Рассчитайте относительную частоту появления мальчика для каждой составленной выборки.\n",
        "        # Запишите найденные относительные частоты в DataFrame\n",
        "\n",
        "        # относительная частота\n",
        "        temp = m_count/df_sample.shape[0]\n",
        "\n",
        "        new_row = pd.DataFrame({\"Объём выборки\": [n], \"Относительная частота рождения мальчика\": [temp]})\n",
        "        new_df = pd.concat([new_df, new_row], ignore_index=True)\n",
        "\n",
        "# добавляю выборку из 100 000 значений, она может быть только одна\n",
        "count_values = df['SEX'].value_counts()\n",
        "m_count = count_values[\"M\"]\n",
        "temp = m_count/df.shape[0]\n",
        "new_row = pd.DataFrame({\"Объём выборки\": [100000], \"Относительная частота рождения мальчика\": [temp]})\n",
        "new_df = pd.concat([new_df, new_row], ignore_index=True)"
      ],
      "metadata": {
        "id": "_CQn4XY_ujOb"
      },
      "execution_count": 30,
      "outputs": []
    },
    {
      "cell_type": "code",
      "source": [
        "# вывод полученных данных\n",
        "new_df"
      ],
      "metadata": {
        "colab": {
          "base_uri": "https://localhost:8080/",
          "height": 423
        },
        "id": "Q4qG57dyuky-",
        "outputId": "e76831de-e4d7-4eb3-c04c-8fb8d1ac2510"
      },
      "execution_count": 31,
      "outputs": [
        {
          "output_type": "execute_result",
          "data": {
            "text/plain": [
              "     Объём выборки  Относительная частота рождения мальчика\n",
              "0            100.0                                  0.50000\n",
              "1            100.0                                  0.50000\n",
              "2            100.0                                  0.47000\n",
              "3            100.0                                  0.43000\n",
              "4            100.0                                  0.59000\n",
              "..             ...                                      ...\n",
              "296        10000.0                                  0.50490\n",
              "297        10000.0                                  0.51030\n",
              "298        10000.0                                  0.50910\n",
              "299        10000.0                                  0.50690\n",
              "300       100000.0                                  0.51018\n",
              "\n",
              "[301 rows x 2 columns]"
            ],
            "text/html": [
              "\n",
              "  <div id=\"df-d66f1130-a5c1-4b63-b342-9a5d8381c26b\" class=\"colab-df-container\">\n",
              "    <div>\n",
              "<style scoped>\n",
              "    .dataframe tbody tr th:only-of-type {\n",
              "        vertical-align: middle;\n",
              "    }\n",
              "\n",
              "    .dataframe tbody tr th {\n",
              "        vertical-align: top;\n",
              "    }\n",
              "\n",
              "    .dataframe thead th {\n",
              "        text-align: right;\n",
              "    }\n",
              "</style>\n",
              "<table border=\"1\" class=\"dataframe\">\n",
              "  <thead>\n",
              "    <tr style=\"text-align: right;\">\n",
              "      <th></th>\n",
              "      <th>Объём выборки</th>\n",
              "      <th>Относительная частота рождения мальчика</th>\n",
              "    </tr>\n",
              "  </thead>\n",
              "  <tbody>\n",
              "    <tr>\n",
              "      <th>0</th>\n",
              "      <td>100.0</td>\n",
              "      <td>0.50000</td>\n",
              "    </tr>\n",
              "    <tr>\n",
              "      <th>1</th>\n",
              "      <td>100.0</td>\n",
              "      <td>0.50000</td>\n",
              "    </tr>\n",
              "    <tr>\n",
              "      <th>2</th>\n",
              "      <td>100.0</td>\n",
              "      <td>0.47000</td>\n",
              "    </tr>\n",
              "    <tr>\n",
              "      <th>3</th>\n",
              "      <td>100.0</td>\n",
              "      <td>0.43000</td>\n",
              "    </tr>\n",
              "    <tr>\n",
              "      <th>4</th>\n",
              "      <td>100.0</td>\n",
              "      <td>0.59000</td>\n",
              "    </tr>\n",
              "    <tr>\n",
              "      <th>...</th>\n",
              "      <td>...</td>\n",
              "      <td>...</td>\n",
              "    </tr>\n",
              "    <tr>\n",
              "      <th>296</th>\n",
              "      <td>10000.0</td>\n",
              "      <td>0.50490</td>\n",
              "    </tr>\n",
              "    <tr>\n",
              "      <th>297</th>\n",
              "      <td>10000.0</td>\n",
              "      <td>0.51030</td>\n",
              "    </tr>\n",
              "    <tr>\n",
              "      <th>298</th>\n",
              "      <td>10000.0</td>\n",
              "      <td>0.50910</td>\n",
              "    </tr>\n",
              "    <tr>\n",
              "      <th>299</th>\n",
              "      <td>10000.0</td>\n",
              "      <td>0.50690</td>\n",
              "    </tr>\n",
              "    <tr>\n",
              "      <th>300</th>\n",
              "      <td>100000.0</td>\n",
              "      <td>0.51018</td>\n",
              "    </tr>\n",
              "  </tbody>\n",
              "</table>\n",
              "<p>301 rows × 2 columns</p>\n",
              "</div>\n",
              "    <div class=\"colab-df-buttons\">\n",
              "\n",
              "  <div class=\"colab-df-container\">\n",
              "    <button class=\"colab-df-convert\" onclick=\"convertToInteractive('df-d66f1130-a5c1-4b63-b342-9a5d8381c26b')\"\n",
              "            title=\"Convert this dataframe to an interactive table.\"\n",
              "            style=\"display:none;\">\n",
              "\n",
              "  <svg xmlns=\"http://www.w3.org/2000/svg\" height=\"24px\" viewBox=\"0 -960 960 960\">\n",
              "    <path d=\"M120-120v-720h720v720H120Zm60-500h600v-160H180v160Zm220 220h160v-160H400v160Zm0 220h160v-160H400v160ZM180-400h160v-160H180v160Zm440 0h160v-160H620v160ZM180-180h160v-160H180v160Zm440 0h160v-160H620v160Z\"/>\n",
              "  </svg>\n",
              "    </button>\n",
              "\n",
              "  <style>\n",
              "    .colab-df-container {\n",
              "      display:flex;\n",
              "      gap: 12px;\n",
              "    }\n",
              "\n",
              "    .colab-df-convert {\n",
              "      background-color: #E8F0FE;\n",
              "      border: none;\n",
              "      border-radius: 50%;\n",
              "      cursor: pointer;\n",
              "      display: none;\n",
              "      fill: #1967D2;\n",
              "      height: 32px;\n",
              "      padding: 0 0 0 0;\n",
              "      width: 32px;\n",
              "    }\n",
              "\n",
              "    .colab-df-convert:hover {\n",
              "      background-color: #E2EBFA;\n",
              "      box-shadow: 0px 1px 2px rgba(60, 64, 67, 0.3), 0px 1px 3px 1px rgba(60, 64, 67, 0.15);\n",
              "      fill: #174EA6;\n",
              "    }\n",
              "\n",
              "    .colab-df-buttons div {\n",
              "      margin-bottom: 4px;\n",
              "    }\n",
              "\n",
              "    [theme=dark] .colab-df-convert {\n",
              "      background-color: #3B4455;\n",
              "      fill: #D2E3FC;\n",
              "    }\n",
              "\n",
              "    [theme=dark] .colab-df-convert:hover {\n",
              "      background-color: #434B5C;\n",
              "      box-shadow: 0px 1px 3px 1px rgba(0, 0, 0, 0.15);\n",
              "      filter: drop-shadow(0px 1px 2px rgba(0, 0, 0, 0.3));\n",
              "      fill: #FFFFFF;\n",
              "    }\n",
              "  </style>\n",
              "\n",
              "    <script>\n",
              "      const buttonEl =\n",
              "        document.querySelector('#df-d66f1130-a5c1-4b63-b342-9a5d8381c26b button.colab-df-convert');\n",
              "      buttonEl.style.display =\n",
              "        google.colab.kernel.accessAllowed ? 'block' : 'none';\n",
              "\n",
              "      async function convertToInteractive(key) {\n",
              "        const element = document.querySelector('#df-d66f1130-a5c1-4b63-b342-9a5d8381c26b');\n",
              "        const dataTable =\n",
              "          await google.colab.kernel.invokeFunction('convertToInteractive',\n",
              "                                                    [key], {});\n",
              "        if (!dataTable) return;\n",
              "\n",
              "        const docLinkHtml = 'Like what you see? Visit the ' +\n",
              "          '<a target=\"_blank\" href=https://colab.research.google.com/notebooks/data_table.ipynb>data table notebook</a>'\n",
              "          + ' to learn more about interactive tables.';\n",
              "        element.innerHTML = '';\n",
              "        dataTable['output_type'] = 'display_data';\n",
              "        await google.colab.output.renderOutput(dataTable, element);\n",
              "        const docLink = document.createElement('div');\n",
              "        docLink.innerHTML = docLinkHtml;\n",
              "        element.appendChild(docLink);\n",
              "      }\n",
              "    </script>\n",
              "  </div>\n",
              "\n",
              "\n",
              "<div id=\"df-445b1910-6513-44bc-9632-048396e2ebe4\">\n",
              "  <button class=\"colab-df-quickchart\" onclick=\"quickchart('df-445b1910-6513-44bc-9632-048396e2ebe4')\"\n",
              "            title=\"Suggest charts\"\n",
              "            style=\"display:none;\">\n",
              "\n",
              "<svg xmlns=\"http://www.w3.org/2000/svg\" height=\"24px\"viewBox=\"0 0 24 24\"\n",
              "     width=\"24px\">\n",
              "    <g>\n",
              "        <path d=\"M19 3H5c-1.1 0-2 .9-2 2v14c0 1.1.9 2 2 2h14c1.1 0 2-.9 2-2V5c0-1.1-.9-2-2-2zM9 17H7v-7h2v7zm4 0h-2V7h2v10zm4 0h-2v-4h2v4z\"/>\n",
              "    </g>\n",
              "</svg>\n",
              "  </button>\n",
              "\n",
              "<style>\n",
              "  .colab-df-quickchart {\n",
              "      --bg-color: #E8F0FE;\n",
              "      --fill-color: #1967D2;\n",
              "      --hover-bg-color: #E2EBFA;\n",
              "      --hover-fill-color: #174EA6;\n",
              "      --disabled-fill-color: #AAA;\n",
              "      --disabled-bg-color: #DDD;\n",
              "  }\n",
              "\n",
              "  [theme=dark] .colab-df-quickchart {\n",
              "      --bg-color: #3B4455;\n",
              "      --fill-color: #D2E3FC;\n",
              "      --hover-bg-color: #434B5C;\n",
              "      --hover-fill-color: #FFFFFF;\n",
              "      --disabled-bg-color: #3B4455;\n",
              "      --disabled-fill-color: #666;\n",
              "  }\n",
              "\n",
              "  .colab-df-quickchart {\n",
              "    background-color: var(--bg-color);\n",
              "    border: none;\n",
              "    border-radius: 50%;\n",
              "    cursor: pointer;\n",
              "    display: none;\n",
              "    fill: var(--fill-color);\n",
              "    height: 32px;\n",
              "    padding: 0;\n",
              "    width: 32px;\n",
              "  }\n",
              "\n",
              "  .colab-df-quickchart:hover {\n",
              "    background-color: var(--hover-bg-color);\n",
              "    box-shadow: 0 1px 2px rgba(60, 64, 67, 0.3), 0 1px 3px 1px rgba(60, 64, 67, 0.15);\n",
              "    fill: var(--button-hover-fill-color);\n",
              "  }\n",
              "\n",
              "  .colab-df-quickchart-complete:disabled,\n",
              "  .colab-df-quickchart-complete:disabled:hover {\n",
              "    background-color: var(--disabled-bg-color);\n",
              "    fill: var(--disabled-fill-color);\n",
              "    box-shadow: none;\n",
              "  }\n",
              "\n",
              "  .colab-df-spinner {\n",
              "    border: 2px solid var(--fill-color);\n",
              "    border-color: transparent;\n",
              "    border-bottom-color: var(--fill-color);\n",
              "    animation:\n",
              "      spin 1s steps(1) infinite;\n",
              "  }\n",
              "\n",
              "  @keyframes spin {\n",
              "    0% {\n",
              "      border-color: transparent;\n",
              "      border-bottom-color: var(--fill-color);\n",
              "      border-left-color: var(--fill-color);\n",
              "    }\n",
              "    20% {\n",
              "      border-color: transparent;\n",
              "      border-left-color: var(--fill-color);\n",
              "      border-top-color: var(--fill-color);\n",
              "    }\n",
              "    30% {\n",
              "      border-color: transparent;\n",
              "      border-left-color: var(--fill-color);\n",
              "      border-top-color: var(--fill-color);\n",
              "      border-right-color: var(--fill-color);\n",
              "    }\n",
              "    40% {\n",
              "      border-color: transparent;\n",
              "      border-right-color: var(--fill-color);\n",
              "      border-top-color: var(--fill-color);\n",
              "    }\n",
              "    60% {\n",
              "      border-color: transparent;\n",
              "      border-right-color: var(--fill-color);\n",
              "    }\n",
              "    80% {\n",
              "      border-color: transparent;\n",
              "      border-right-color: var(--fill-color);\n",
              "      border-bottom-color: var(--fill-color);\n",
              "    }\n",
              "    90% {\n",
              "      border-color: transparent;\n",
              "      border-bottom-color: var(--fill-color);\n",
              "    }\n",
              "  }\n",
              "</style>\n",
              "\n",
              "  <script>\n",
              "    async function quickchart(key) {\n",
              "      const quickchartButtonEl =\n",
              "        document.querySelector('#' + key + ' button');\n",
              "      quickchartButtonEl.disabled = true;  // To prevent multiple clicks.\n",
              "      quickchartButtonEl.classList.add('colab-df-spinner');\n",
              "      try {\n",
              "        const charts = await google.colab.kernel.invokeFunction(\n",
              "            'suggestCharts', [key], {});\n",
              "      } catch (error) {\n",
              "        console.error('Error during call to suggestCharts:', error);\n",
              "      }\n",
              "      quickchartButtonEl.classList.remove('colab-df-spinner');\n",
              "      quickchartButtonEl.classList.add('colab-df-quickchart-complete');\n",
              "    }\n",
              "    (() => {\n",
              "      let quickchartButtonEl =\n",
              "        document.querySelector('#df-445b1910-6513-44bc-9632-048396e2ebe4 button');\n",
              "      quickchartButtonEl.style.display =\n",
              "        google.colab.kernel.accessAllowed ? 'block' : 'none';\n",
              "    })();\n",
              "  </script>\n",
              "</div>\n",
              "    </div>\n",
              "  </div>\n"
            ],
            "application/vnd.google.colaboratory.intrinsic+json": {
              "type": "dataframe",
              "variable_name": "new_df",
              "summary": "{\n  \"name\": \"new_df\",\n  \"rows\": 301,\n  \"fields\": [\n    {\n      \"column\": \"\\u041e\\u0431\\u044a\\u0451\\u043c \\u0432\\u044b\\u0431\\u043e\\u0440\\u043a\\u0438\",\n      \"properties\": {\n        \"dtype\": \"number\",\n        \"std\": 7126.6823507789195,\n        \"min\": 100.0,\n        \"max\": 100000.0,\n        \"num_unique_values\": 4,\n        \"samples\": [\n          1000.0,\n          100000.0,\n          100.0\n        ],\n        \"semantic_type\": \"\",\n        \"description\": \"\"\n      }\n    },\n    {\n      \"column\": \"\\u041e\\u0442\\u043d\\u043e\\u0441\\u0438\\u0442\\u0435\\u043b\\u044c\\u043d\\u0430\\u044f \\u0447\\u0430\\u0441\\u0442\\u043e\\u0442\\u0430 \\u0440\\u043e\\u0436\\u0434\\u0435\\u043d\\u0438\\u044f \\u043c\\u0430\\u043b\\u044c\\u0447\\u0438\\u043a\\u0430\",\n      \"properties\": {\n        \"dtype\": \"number\",\n        \"std\": 0.030930491403657993,\n        \"min\": 0.37,\n        \"max\": 0.63,\n        \"num_unique_values\": 132,\n        \"samples\": [\n          0.506,\n          0.5098,\n          0.51\n        ],\n        \"semantic_type\": \"\",\n        \"description\": \"\"\n      }\n    }\n  ]\n}"
            }
          },
          "metadata": {},
          "execution_count": 31
        }
      ]
    },
    {
      "cell_type": "markdown",
      "source": [
        "Визуализация в виде облака точек\n",
        "\n",
        "Сделал в двух вариантах, не знал, какой из них лучше."
      ],
      "metadata": {
        "id": "vu0k1tXTOmP9"
      }
    },
    {
      "cell_type": "code",
      "source": [
        "plt.figure(figsize=(8,8))\n",
        "plt.scatter(new_df[\"Объём выборки\"], new_df[\"Относительная частота рождения мальчика\"])\n",
        "plt.xscale(\"log\")\n",
        "plt.xlabel(\"Объём выборки\")\n",
        "plt.ylabel(\"Относительная частота рождения мальчика\")\n",
        "plt.grid(True)\n",
        "plt.savefig(\"Выборка.png\") # сохранение файла в текущую директорию\n",
        "plt.show()\n"
      ],
      "metadata": {
        "colab": {
          "base_uri": "https://localhost:8080/",
          "height": 700
        },
        "id": "ById6Q7EHBAT",
        "outputId": "7fde5701-fd63-41a5-fae9-20b63bb722a4"
      },
      "execution_count": 36,
      "outputs": [
        {
          "output_type": "display_data",
          "data": {
            "text/plain": [
              "<Figure size 800x800 with 1 Axes>"
            ],
            "image/png": "[encoded data removed]"
          },
          "metadata": {}
        }
      ]
    },
    {
      "cell_type": "code",
      "source": [
        "indexes = [i for i in range(len(list(new_df.index)))]\n",
        "\n",
        "plt.figure(figsize=(8,8))\n",
        "plt.scatter(indexes, new_df[\"Относительная частота рождения мальчика\"])\n",
        "plt.xlabel(\"Объём выборки\")\n",
        "plt.ylabel(\"Относительная частота рождения мальчика\")\n",
        "plt.grid(True)\n",
        "plt.show()\n"
      ],
      "metadata": {
        "colab": {
          "base_uri": "https://localhost:8080/",
          "height": 696
        },
        "id": "DqDVhFPvOZbT",
        "outputId": "4caf3040-3173-4a97-936c-a4a335710525"
      },
      "execution_count": 33,
      "outputs": [
        {
          "output_type": "display_data",
          "data": {
            "text/plain": [
              "<Figure size 800x800 with 1 Axes>"
            ],
            "image/png": "[encoded data removed]"
          },
          "metadata": {}
        }
      ]
    },
    {
      "cell_type": "code",
      "source": [
        "new_df.to_csv(\"/content/Results.csv\", sep=',', index=False)"
      ],
      "metadata": {
        "id": "Wal4HelYLCoM"
      },
      "execution_count": 34,
      "outputs": []
    },
    {
      "cell_type": "markdown",
      "source": [
        "## Ответы на вопросы"
      ],
      "metadata": {
        "id": "DqnyS7GlO3wD"
      }
    },
    {
      "cell_type": "markdown",
      "source": [
        "1 Наблюдается ли на примере составленных выборок устойчивость относительных частот?\n",
        "\n",
        "Устойчивость наблюдается. Особенно хорошо это заметно в выборках из 1000 и более человек\n",
        "\n",
        "\n",
        "2 Как влияет на результаты увеличение объёма выборки?\n",
        "\n",
        "Мальчики рождаются с вероятностью 0,5 или 50%. Из полученных данных видно, что, чем больше выборка, т.е. количество опытов, тем меньше относительная частота колеблется вокруг этого значения.\n"
      ],
      "metadata": {
        "id": "87uODvrqm-kd"
      }
    }
  ]
}